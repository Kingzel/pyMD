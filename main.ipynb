{
  "cells": [
    {
      "cell_type": "markdown",
      "metadata": {
        "colab_type": "text",
        "id": "view-in-github"
      },
      "source": [
        "<a href=\"https://colab.research.google.com/github/Kingzel/pyMD/blob/main/main.ipynb\" target=\"_parent\"><img src=\"https://colab.research.google.com/assets/colab-badge.svg\" alt=\"Open In Colab\"/></a>"
      ]
    },
    {
      "cell_type": "code",
      "execution_count": 1,
      "metadata": {
        "id": "5m_wW1_jc0B0"
      },
      "outputs": [],
      "source": [
        "import json\n",
        "import csv\n",
        "import pandas as pd\n",
        "import matplotlib.pyplot as plt"
      ]
    },
    {
      "cell_type": "code",
      "execution_count": 2,
      "metadata": {
        "id": "dQUmQKkIc0B2"
      },
      "outputs": [],
      "source": [
        "from sklearn.ensemble import RandomForestClassifier\n",
        "from sklearn.model_selection import train_test_split\n"
      ]
    },
    {
      "cell_type": "code",
      "execution_count": 3,
      "metadata": {},
      "outputs": [],
      "source": [
        "from setup import gen_multichoice_features , gen_binary_features , gen_singlechoice_features"
      ]
    },
    {
      "cell_type": "code",
      "execution_count": 4,
      "metadata": {},
      "outputs": [],
      "source": [
        "evids = pd.read_json(\"data\\\\release_evidences.json\")"
      ]
    },
    {
      "cell_type": "code",
      "execution_count": 5,
      "metadata": {
        "id": "RvFkQ5dwc0B4"
      },
      "outputs": [],
      "source": [
        "from setup import parse_data\n",
        "parsed = parse_data([\"output\\\\output_1.csv\",\"output\\\\output_2.csv\",\"output\\\\output_3.csv\",\"output\\\\output_4.csv\",\"output\\\\output_5.csv\"])\n",
        "train_patients,y = pd.concat(parsed[0::2], ignore_index=True),pd.concat(parsed[1::2],ignore_index=True)"
      ]
    },
    {
      "cell_type": "code",
      "execution_count": 6,
      "metadata": {
        "colab": {
          "base_uri": "https://localhost:8080/"
        },
        "id": "tDTubMlBTaIu",
        "outputId": "a265836a-5eb9-4b36-a969-0388e852aa61"
      },
      "outputs": [],
      "source": [
        "m_collection = gen_multichoice_features(evids)\n",
        "c_collection =gen_singlechoice_features(evids)\n",
        "b_collection = gen_binary_features(evids)"
      ]
    },
    {
      "cell_type": "code",
      "execution_count": 7,
      "metadata": {
        "colab": {
          "base_uri": "https://localhost:8080/"
        },
        "id": "mmskv6_vp_zR",
        "outputId": "9c25bd33-4cd8-47cb-a5b6-90bd01684add"
      },
      "outputs": [],
      "source": [
        "all_collections = b_collection+m_collection+c_collection\n",
        "all_collections.extend(['AGE','SEX'])\n",
        "\n"
      ]
    },
    {
      "cell_type": "code",
      "execution_count": 13,
      "metadata": {},
      "outputs": [
        {
          "name": "stdout",
          "output_type": "stream",
          "text": [
            "(150000, 914) \n",
            "\n",
            "   E_91  E_53  E_159  E_129\n",
            "0     0     0      0      0\n",
            "1     0     0      0      0\n"
          ]
        }
      ],
      "source": [
        "from setup import gen_empty\n",
        "new_df = gen_empty(all_collections,len(train_patients)) \n",
        "print(new_df.shape,\"\\n\")\n",
        "print(new_df.iloc[0:2,:4])"
      ]
    },
    {
      "cell_type": "code",
      "execution_count": 14,
      "metadata": {
        "colab": {
          "base_uri": "https://localhost:8080/"
        },
        "id": "sg0f3A5ls5Nb",
        "outputId": "20d071b1-ebc6-4c92-d1e1-be3876ffc368"
      },
      "outputs": [],
      "source": [
        "from setup import populate\n",
        "new_df = populate(new_df,train_patients)"
      ]
    },
    {
      "cell_type": "code",
      "execution_count": 16,
      "metadata": {
        "colab": {
          "base_uri": "https://localhost:8080/"
        },
        "id": "rxFlmTJm_iyI",
        "outputId": "0edb0220-7381-48a6-968b-e139ffd6b1eb"
      },
      "outputs": [
        {
          "name": "stdout",
          "output_type": "stream",
          "text": [
            "(150000, 914)\n",
            "   E_91  E_53  E_159  E_129\n",
            "0     1     1      0      0\n",
            "1     1     1      0      1\n"
          ]
        }
      ],
      "source": [
        "print(new_df.shape)\n",
        "print(new_df.iloc[0:2,:4])"
      ]
    },
    {
      "cell_type": "code",
      "execution_count": 17,
      "metadata": {
        "colab": {
          "base_uri": "https://localhost:8080/"
        },
        "id": "khlrqQusABbX",
        "outputId": "c1474555-1492-4d0f-9a24-e6134854a964"
      },
      "outputs": [
        {
          "name": "stdout",
          "output_type": "stream",
          "text": [
            "53400     44\n",
            "86452      9\n",
            "15113     49\n",
            "100985    24\n",
            "142631    32\n",
            "Name: AGE, dtype: int64\n",
            "\n",
            "\n",
            "53400                Tuberculosis\n",
            "86452                        PSVT\n",
            "15113     Possible NSTEMI / STEMI\n",
            "100985           Acute laryngitis\n",
            "142631           Cluster headache\n",
            "Name: PATHOLOGY, dtype: object\n"
          ]
        }
      ],
      "source": [
        "\n",
        "X_train, X_test, y_train, y_test = train_test_split(new_df, y, test_size = 0.35)\n",
        "print(X_train.head()['AGE'],y_train.head(),sep=\"\\n\\n\\n\")"
      ]
    },
    {
      "cell_type": "code",
      "execution_count": 18,
      "metadata": {
        "colab": {
          "base_uri": "https://localhost:8080/",
          "height": 194
        },
        "id": "VqcObY6EIZ7C",
        "outputId": "542b5c20-e3c9-4a65-ba4c-ae737faf653f"
      },
      "outputs": [
        {
          "data": {
            "text/html": [
              "<style>#sk-container-id-1 {color: black;background-color: white;}#sk-container-id-1 pre{padding: 0;}#sk-container-id-1 div.sk-toggleable {background-color: white;}#sk-container-id-1 label.sk-toggleable__label {cursor: pointer;display: block;width: 100%;margin-bottom: 0;padding: 0.3em;box-sizing: border-box;text-align: center;}#sk-container-id-1 label.sk-toggleable__label-arrow:before {content: \"▸\";float: left;margin-right: 0.25em;color: #696969;}#sk-container-id-1 label.sk-toggleable__label-arrow:hover:before {color: black;}#sk-container-id-1 div.sk-estimator:hover label.sk-toggleable__label-arrow:before {color: black;}#sk-container-id-1 div.sk-toggleable__content {max-height: 0;max-width: 0;overflow: hidden;text-align: left;background-color: #f0f8ff;}#sk-container-id-1 div.sk-toggleable__content pre {margin: 0.2em;color: black;border-radius: 0.25em;background-color: #f0f8ff;}#sk-container-id-1 input.sk-toggleable__control:checked~div.sk-toggleable__content {max-height: 200px;max-width: 100%;overflow: auto;}#sk-container-id-1 input.sk-toggleable__control:checked~label.sk-toggleable__label-arrow:before {content: \"▾\";}#sk-container-id-1 div.sk-estimator input.sk-toggleable__control:checked~label.sk-toggleable__label {background-color: #d4ebff;}#sk-container-id-1 div.sk-label input.sk-toggleable__control:checked~label.sk-toggleable__label {background-color: #d4ebff;}#sk-container-id-1 input.sk-hidden--visually {border: 0;clip: rect(1px 1px 1px 1px);clip: rect(1px, 1px, 1px, 1px);height: 1px;margin: -1px;overflow: hidden;padding: 0;position: absolute;width: 1px;}#sk-container-id-1 div.sk-estimator {font-family: monospace;background-color: #f0f8ff;border: 1px dotted black;border-radius: 0.25em;box-sizing: border-box;margin-bottom: 0.5em;}#sk-container-id-1 div.sk-estimator:hover {background-color: #d4ebff;}#sk-container-id-1 div.sk-parallel-item::after {content: \"\";width: 100%;border-bottom: 1px solid gray;flex-grow: 1;}#sk-container-id-1 div.sk-label:hover label.sk-toggleable__label {background-color: #d4ebff;}#sk-container-id-1 div.sk-serial::before {content: \"\";position: absolute;border-left: 1px solid gray;box-sizing: border-box;top: 0;bottom: 0;left: 50%;z-index: 0;}#sk-container-id-1 div.sk-serial {display: flex;flex-direction: column;align-items: center;background-color: white;padding-right: 0.2em;padding-left: 0.2em;position: relative;}#sk-container-id-1 div.sk-item {position: relative;z-index: 1;}#sk-container-id-1 div.sk-parallel {display: flex;align-items: stretch;justify-content: center;background-color: white;position: relative;}#sk-container-id-1 div.sk-item::before, #sk-container-id-1 div.sk-parallel-item::before {content: \"\";position: absolute;border-left: 1px solid gray;box-sizing: border-box;top: 0;bottom: 0;left: 50%;z-index: -1;}#sk-container-id-1 div.sk-parallel-item {display: flex;flex-direction: column;z-index: 1;position: relative;background-color: white;}#sk-container-id-1 div.sk-parallel-item:first-child::after {align-self: flex-end;width: 50%;}#sk-container-id-1 div.sk-parallel-item:last-child::after {align-self: flex-start;width: 50%;}#sk-container-id-1 div.sk-parallel-item:only-child::after {width: 0;}#sk-container-id-1 div.sk-dashed-wrapped {border: 1px dashed gray;margin: 0 0.4em 0.5em 0.4em;box-sizing: border-box;padding-bottom: 0.4em;background-color: white;}#sk-container-id-1 div.sk-label label {font-family: monospace;font-weight: bold;display: inline-block;line-height: 1.2em;}#sk-container-id-1 div.sk-label-container {text-align: center;}#sk-container-id-1 div.sk-container {/* jupyter's `normalize.less` sets `[hidden] { display: none; }` but bootstrap.min.css set `[hidden] { display: none !important; }` so we also need the `!important` here to be able to override the default hidden behavior on the sphinx rendered scikit-learn.org. See: https://github.com/scikit-learn/scikit-learn/issues/21755 */display: inline-block !important;position: relative;}#sk-container-id-1 div.sk-text-repr-fallback {display: none;}</style><div id=\"sk-container-id-1\" class=\"sk-top-container\"><div class=\"sk-text-repr-fallback\"><pre>RandomForestClassifier(n_estimators=10, warm_start=True)</pre><b>In a Jupyter environment, please rerun this cell to show the HTML representation or trust the notebook. <br />On GitHub, the HTML representation is unable to render, please try loading this page with nbviewer.org.</b></div><div class=\"sk-container\" hidden><div class=\"sk-item\"><div class=\"sk-estimator sk-toggleable\"><input class=\"sk-toggleable__control sk-hidden--visually\" id=\"sk-estimator-id-1\" type=\"checkbox\" checked><label for=\"sk-estimator-id-1\" class=\"sk-toggleable__label sk-toggleable__label-arrow\">RandomForestClassifier</label><div class=\"sk-toggleable__content\"><pre>RandomForestClassifier(n_estimators=10, warm_start=True)</pre></div></div></div></div></div>"
            ],
            "text/plain": [
              "RandomForestClassifier(n_estimators=10, warm_start=True)"
            ]
          },
          "execution_count": 18,
          "metadata": {},
          "output_type": "execute_result"
        }
      ],
      "source": [
        "clf = RandomForestClassifier(n_estimators=10, warm_start=True)\n",
        "clf.fit(X_train, y_train)\n"
      ]
    },
    {
      "cell_type": "code",
      "execution_count": 20,
      "metadata": {
        "colab": {
          "base_uri": "https://localhost:8080/"
        },
        "id": "LMTZAsMMN-dg",
        "outputId": "debd1bb8-2036-42de-94ff-ff8623f8a87a"
      },
      "outputs": [
        {
          "name": "stdout",
          "output_type": "stream",
          "text": [
            "52158 out of 52500 \n",
            " 0.9934857142857143 accuracy\n"
          ]
        }
      ],
      "source": [
        "y_pred  = clf.predict(X_test)\n",
        "correct = 0\n",
        "total =0\n",
        "for predicted, actual in zip(y_pred,y_test):\n",
        "  if predicted == actual:\n",
        "    correct+=1\n",
        "  total+=1\n",
        "print(correct,'out of',total,'\\n',correct/total,'accuracy')"
      ]
    },
    {
      "cell_type": "code",
      "execution_count": null,
      "metadata": {
        "id": "pI-n8oAeO5Cm"
      },
      "outputs": [],
      "source": [
        "import pickle as p\n",
        "\n",
        "with open('trained_model.bin', 'wb') as f:\n",
        "    p.dump(clf, f)\n"
      ]
    },
    {
      "cell_type": "code",
      "execution_count": null,
      "metadata": {
        "id": "xkv497VER0k9"
      },
      "outputs": [],
      "source": [
        "from setup import parse_data , populate, gen_empty\n",
        "parsed = parse_data([\"data\\\\release_test_patients\\\\release_test_patients.csv\"])\n",
        "test_patients = parsed[0]\n",
        "y=parsed[1]\n",
        "new_df = gen_empty(all_collections,len(test_patients))\n",
        "new_df = populate(new_df,test_patients)"
      ]
    },
    {
      "cell_type": "code",
      "execution_count": null,
      "metadata": {
        "id": "YJOY0dLkVbbr"
      },
      "outputs": [],
      "source": [
        "import pickle as p\n",
        "with open('trained_model.bin', 'rb') as f:\n",
        "    rf = p.load(f)"
      ]
    },
    {
      "cell_type": "code",
      "execution_count": null,
      "metadata": {
        "colab": {
          "base_uri": "https://localhost:8080/"
        },
        "id": "Sduj5K6ZVMsc",
        "outputId": "4171d2ae-c248-4d0c-ccb3-be2e8090b3f7"
      },
      "outputs": [],
      "source": [
        "y_pred  = rf.predict(new_df)\n",
        "correct = 0\n",
        "total =0\n",
        "for predicted, actual in zip(y_pred,y):\n",
        "  if predicted == actual:\n",
        "    correct+=1\n",
        "  total+=1\n",
        "print(correct,'out of',total,correct/total,'accuracy')"
      ]
    },
    {
      "cell_type": "markdown",
      "metadata": {},
      "source": [
        "DONE"
      ]
    }
  ],
  "metadata": {
    "colab": {
      "include_colab_link": true,
      "provenance": []
    },
    "kernelspec": {
      "display_name": "Python 3",
      "name": "python3"
    },
    "language_info": {
      "codemirror_mode": {
        "name": "ipython",
        "version": 3
      },
      "file_extension": ".py",
      "mimetype": "text/x-python",
      "name": "python",
      "nbconvert_exporter": "python",
      "pygments_lexer": "ipython3",
      "version": "3.10.11"
    }
  },
  "nbformat": 4,
  "nbformat_minor": 0
}
