{
  "cells": [
    {
      "cell_type": "markdown",
      "metadata": {
        "colab_type": "text",
        "id": "view-in-github"
      },
      "source": [
        "<a href=\"https://colab.research.google.com/github/Kingzel/pyMD/blob/main/main.ipynb\" target=\"_parent\"><img src=\"https://colab.research.google.com/assets/colab-badge.svg\" alt=\"Open In Colab\"/></a>"
      ]
    },
    {
      "cell_type": "code",
      "execution_count": 1,
      "metadata": {
        "id": "5m_wW1_jc0B0"
      },
      "outputs": [],
      "source": [
        "import json\n",
        "import csv\n",
        "import pandas as pd\n",
        "import matplotlib.pyplot as plt"
      ]
    },
    {
      "cell_type": "code",
      "execution_count": 2,
      "metadata": {
        "id": "dQUmQKkIc0B2"
      },
      "outputs": [],
      "source": [
        "from sklearn.ensemble import RandomForestClassifier\n",
        "from sklearn.model_selection import train_test_split"
      ]
    },
    {
      "cell_type": "code",
      "execution_count": 3,
      "metadata": {},
      "outputs": [],
      "source": [
        "from setup import gen_multichoice_features , gen_binary_features , gen_singlechoice_features"
      ]
    },
    {
      "cell_type": "markdown",
      "metadata": {},
      "source": [
        "Read Evidences/Symptoms"
      ]
    },
    {
      "cell_type": "code",
      "execution_count": 4,
      "metadata": {},
      "outputs": [],
      "source": [
        "evids = pd.read_json(\"data\\\\release_evidences.json\")"
      ]
    },
    {
      "cell_type": "markdown",
      "metadata": {},
      "source": [
        "From the evidences, prepare to explode the predictors for binary categorical, multi choice categroical and single choice categorical evidences accoridngly to be interger encoded (one hot encoding + interger ordinal encoding where neccessary)"
      ]
    },
    {
      "cell_type": "code",
      "execution_count": 5,
      "metadata": {
        "colab": {
          "base_uri": "https://localhost:8080/"
        },
        "id": "tDTubMlBTaIu",
        "outputId": "a265836a-5eb9-4b36-a969-0388e852aa61"
      },
      "outputs": [],
      "source": [
        "m_collection = gen_multichoice_features(evids)\n",
        "c_collection =gen_singlechoice_features(evids)\n",
        "b_collection = gen_binary_features(evids)"
      ]
    },
    {
      "cell_type": "markdown",
      "metadata": {},
      "source": [
        "Manually reincluding SEX and AGE as predictors."
      ]
    },
    {
      "cell_type": "code",
      "execution_count": 6,
      "metadata": {
        "colab": {
          "base_uri": "https://localhost:8080/"
        },
        "id": "mmskv6_vp_zR",
        "outputId": "9c25bd33-4cd8-47cb-a5b6-90bd01684add"
      },
      "outputs": [
        {
          "name": "stdout",
          "output_type": "stream",
          "text": [
            "914\n"
          ]
        }
      ],
      "source": [
        "all_collections = b_collection+m_collection+c_collection[0]\n",
        "all_collections.extend(['AGE','SEX'])\n",
        "print(len(all_collections))\n",
        "\n"
      ]
    },
    {
      "cell_type": "markdown",
      "metadata": {},
      "source": [
        "Import training dataset batches and slice into (predictors and target)"
      ]
    },
    {
      "cell_type": "code",
      "execution_count": 7,
      "metadata": {
        "id": "RvFkQ5dwc0B4"
      },
      "outputs": [],
      "source": [
        "from setup import parse_data\n",
        "parsed = parse_data([\"output\\\\output_1.csv\",\"output\\\\output_2.csv\",\"output\\\\output_3.csv\",\"output\\\\output_4.csv\",\"output\\\\output_5.csv\"])\n",
        "train_patients,y = pd.concat(parsed[0::2], ignore_index=True),pd.concat(parsed[1::2],ignore_index=True)"
      ]
    },
    {
      "cell_type": "markdown",
      "metadata": {},
      "source": [
        "Creating a dummy feature space with predictors as accumulated in `all_collections` and populating with `len(train_patients)` number of rows filled with 0s. "
      ]
    },
    {
      "cell_type": "code",
      "execution_count": 8,
      "metadata": {},
      "outputs": [
        {
          "name": "stdout",
          "output_type": "stream",
          "text": [
            "(150000, 914) \n",
            "\n",
            "   E_91  E_53  E_159  E_129\n",
            "0     0     0      0      0\n",
            "1     0     0      0      0\n"
          ]
        }
      ],
      "source": [
        "from setup import gen_empty\n",
        "new_df = gen_empty(all_collections,len(train_patients)) \n",
        "\n",
        "#Verifying shape of the dummy feature space and the values of the first few rows and columns.\n",
        "print(new_df.shape,\"\\n\")\n",
        "print(new_df.iloc[0:2,:4])"
      ]
    },
    {
      "cell_type": "markdown",
      "metadata": {},
      "source": [
        "Actually populating the feature space with patient data (symptoms, sex and age are loaded in structural accordance.)"
      ]
    },
    {
      "cell_type": "code",
      "execution_count": 9,
      "metadata": {
        "colab": {
          "base_uri": "https://localhost:8080/"
        },
        "id": "sg0f3A5ls5Nb",
        "outputId": "20d071b1-ebc6-4c92-d1e1-be3876ffc368"
      },
      "outputs": [],
      "source": [
        "from setup import populate\n",
        "new_df = populate(new_df,train_patients)"
      ]
    },
    {
      "cell_type": "code",
      "execution_count": 10,
      "metadata": {
        "colab": {
          "base_uri": "https://localhost:8080/"
        },
        "id": "rxFlmTJm_iyI",
        "outputId": "0edb0220-7381-48a6-968b-e139ffd6b1eb"
      },
      "outputs": [
        {
          "name": "stdout",
          "output_type": "stream",
          "text": [
            "(150000, 914)\n",
            "   E_91  E_53  E_159  E_129\n",
            "0     1     1      0      0\n",
            "1     1     1      0      1\n"
          ]
        }
      ],
      "source": [
        "#Verifying shape of the dummy feature space and the values of the first few rows and columns.\n",
        "print(new_df.shape)\n",
        "print(new_df.iloc[0:2,:4])"
      ]
    },
    {
      "cell_type": "markdown",
      "metadata": {},
      "source": [
        "Splitting the dataset into training and testing sets."
      ]
    },
    {
      "cell_type": "code",
      "execution_count": 11,
      "metadata": {
        "colab": {
          "base_uri": "https://localhost:8080/"
        },
        "id": "khlrqQusABbX",
        "outputId": "c1474555-1492-4d0f-9a24-e6134854a964"
      },
      "outputs": [],
      "source": [
        "\n",
        "X_train, X_test, y_train, y_test = train_test_split(new_df, y, test_size = 0.35)"
      ]
    },
    {
      "cell_type": "markdown",
      "metadata": {},
      "source": [
        "Fitting a Random Forest Classifier on the training set (10 trees)"
      ]
    },
    {
      "cell_type": "code",
      "execution_count": 199,
      "metadata": {
        "colab": {
          "base_uri": "https://localhost:8080/",
          "height": 194
        },
        "id": "VqcObY6EIZ7C",
        "outputId": "542b5c20-e3c9-4a65-ba4c-ae737faf653f"
      },
      "outputs": [
        {
          "name": "stdout",
          "output_type": "stream",
          "text": [
            "97500\n"
          ]
        }
      ],
      "source": [
        "clf = RandomForestClassifier(n_estimators=25, warm_start=True,max_depth=15)\n",
        "clf.fit(X_train, y_train)\n",
        "print(len(X_train))\n"
      ]
    },
    {
      "cell_type": "markdown",
      "metadata": {},
      "source": [
        "Predicting and evlauating classification accuracy of the RF model."
      ]
    },
    {
      "cell_type": "code",
      "execution_count": 200,
      "metadata": {
        "colab": {
          "base_uri": "https://localhost:8080/"
        },
        "id": "LMTZAsMMN-dg",
        "outputId": "debd1bb8-2036-42de-94ff-ff8623f8a87a"
      },
      "outputs": [
        {
          "name": "stdout",
          "output_type": "stream",
          "text": [
            "51653 out of 52500 \n",
            " 0.9838666666666667 accuracy\n"
          ]
        }
      ],
      "source": [
        "y_pred  = clf.predict(X_test)\n",
        "correct = 0\n",
        "total =0\n",
        "for predicted, actual in zip(y_pred,y_test):\n",
        "  if predicted == actual:\n",
        "    correct+=1\n",
        "  total+=1\n",
        "print(correct,'out of',total,'\\n',correct/total,'accuracy')"
      ]
    },
    {
      "cell_type": "markdown",
      "metadata": {},
      "source": [
        "Saving the trained model using pickle binary dumps."
      ]
    },
    {
      "cell_type": "code",
      "execution_count": 201,
      "metadata": {
        "id": "pI-n8oAeO5Cm"
      },
      "outputs": [],
      "source": [
        "import pickle as p\n",
        "\n",
        "with open('trained_model.bin', 'wb') as f:\n",
        "    p.dump(clf, f)\n",
        "    p.dump(all_collections,f)\n"
      ]
    },
    {
      "cell_type": "markdown",
      "metadata": {},
      "source": [
        "<h1>TESTING AND DEPLOYMENT</H1>"
      ]
    },
    {
      "cell_type": "code",
      "execution_count": 202,
      "metadata": {
        "id": "YJOY0dLkVbbr"
      },
      "outputs": [
        {
          "name": "stdout",
          "output_type": "stream",
          "text": [
            "914\n"
          ]
        }
      ],
      "source": [
        "import pickle as p\n",
        "with open('trained_model.bin', 'rb') as f:\n",
        "    rf =  p.load(f)\n",
        "    cols  = p.load(f)\n",
        "print(len(cols))"
      ]
    },
    {
      "cell_type": "code",
      "execution_count": 43,
      "metadata": {
        "id": "xkv497VER0k9"
      },
      "outputs": [],
      "source": [
        "from setup import parse_data , populate, gen_empty\n",
        "parsed = parse_data([\"data\\\\release_test_patients\\\\release_test_patients.csv\"])\n",
        "test_patients = parsed[0]\n",
        "y=parsed[1]\n",
        "new_df = gen_empty(cols,len(test_patients))\n"
      ]
    },
    {
      "cell_type": "code",
      "execution_count": 46,
      "metadata": {},
      "outputs": [],
      "source": [
        "new_df = populate(new_df,test_patients)"
      ]
    },
    {
      "cell_type": "code",
      "execution_count": 203,
      "metadata": {
        "colab": {
          "base_uri": "https://localhost:8080/"
        },
        "id": "Sduj5K6ZVMsc",
        "outputId": "4171d2ae-c248-4d0c-ccb3-be2e8090b3f7"
      },
      "outputs": [
        {
          "name": "stdout",
          "output_type": "stream",
          "text": [
            "132253 out of 134529 0.9830817147232195 accuracy\n"
          ]
        }
      ],
      "source": [
        "y_pred  = rf.predict(new_df)\n",
        "correct = 0\n",
        "total =0\n",
        "for predicted, actual in zip(y_pred,y):\n",
        "  if predicted == actual:\n",
        "    correct+=1\n",
        "  total+=1\n",
        "print(correct,'out of',total,correct/total,'accuracy')\n",
        "# print(new_df.head())"
      ]
    },
    {
      "cell_type": "code",
      "execution_count": 51,
      "metadata": {},
      "outputs": [],
      "source": [
        "\n",
        "import visualize\n",
        "import importlib\n",
        "importlib.reload(visualize)\n",
        "num_of_trees = len(rf.estimators_)\n",
        "for i in range(2):\n",
        "    visualize.tvisual(10,cols,rf.estimators_[i])"
      ]
    },
    {
      "cell_type": "code",
      "execution_count": 215,
      "metadata": {},
      "outputs": [
        {
          "name": "stdout",
          "output_type": "stream",
          "text": [
            "{'Bronchospasm / acute asthma exacerbation': 0.077532687863089, 'Larygospasm': 0.05391012191119759, 'Bronchiectasis': 0.05014511270253456, 'Allergic sinusitis': 0.03944151612202885, 'Acute COPD exacerbation / infection': 0.0371035886991858, 'Tuberculosis': 0.0367841575019686, 'Bronchitis': 0.030181484400746014, 'URTI': 0.029922566381589383, 'Pericarditis': 0.029663787482013246, 'Myasthenia gravis': 0.02953954349840544, 'Unstable angina': 0.029252945562480034, 'Possible NSTEMI / STEMI': 0.029175026012739514, 'Atrial fibrillation': 0.028613645261877006, 'Guillain-Barré syndrome': 0.027747809057128477, 'Stable angina': 0.027152480247363272, 'Acute dystonic reactions': 0.026307676193852592, 'Acute otitis media': 0.02628779089003069, 'Boerhaave': 0.025084367630557516, 'GERD': 0.022944889280576204, 'Whooping cough': 0.02287769772238175, 'PSVT': 0.022521610088828727, 'Cluster headache': 0.02144504272922758, 'Myocarditis': 0.01989674481779404, 'Anemia': 0.019819167131795136, 'Pulmonary neoplasm': 0.017748635814074848, 'Acute pulmonary edema': 0.01666462780935281, 'Spontaneous pneumothorax': 0.01646484107953878, 'Viral pharyngitis': 0.016280189841099562, 'Pancreatic neoplasm': 0.01373704445421668, 'Chagas': 0.012246907533837514, 'Chronic rhinosinusitis': 0.012089692499486432, 'Epiglottitis': 0.011854815026333097, 'Acute laryngitis': 0.011824269173935057, 'Pulmonary embolism': 0.011228541923259975, 'Croup': 0.01070254855785523, 'Localized edema': 0.010244037675678727, 'SLE': 0.009272271719286004, 'Spontaneous rib fracture': 0.008870904380364983, 'Inguinal hernia': 0.008585237466793077, 'Panic attack': 0.008322155777994571, 'Sarcoidosis': 0.007829021348983419, 'Scombroid food poisoning': 0.007544489735664148, 'Acute rhinosinusitis': 0.007196404143383316, 'Influenza': 0.006292942678667761, 'HIV (initial infection)': 0.0035821930681619917, 'Pneumonia': 0.003027581332894645, 'Anaphylaxis': 0.0027054787531851287, 'Ebola': 0.0017250092790340645, 'Bronchiolitis': 0.0006086997375271353}\n",
            "\n",
            "['Bronchospasm / acute asthma exacerbation']\n"
          ]
        }
      ],
      "source": [
        "import operator\n",
        "dummy = gen_empty(cols,1)\n",
        "# print(dummy['E_104'])\n",
        "# dummy['E_178'] = 1\n",
        "# # dummy['E_41'] = 1\n",
        "# # dummy['E_73'] =1\n",
        "# # dummy['E_201'] =1\n",
        "# dummy['E_66'] =1\n",
        "# # dummy['E_57'] =1\n",
        "# dummy['E_220'] =1\n",
        "# dummy['E_39'] =1\n",
        "# dummy['E_194'] =1\n",
        "# dummy['E_124']=1\n",
        "# # dummy['E_79']=1\n",
        "# dummy['E_53']=1\n",
        "# dummy['E_222']=1\n",
        "# dummy['E_125']=1\n",
        "dummy['E_116']=1\n",
        "dummy['E_204_@_V_2']=1\n",
        "dummy['E_56']=4\n",
        "\n",
        "# \"E_124\": {},\n",
        "#       \"E_116\": {},\n",
        "#       \"E_79\": {},\n",
        "#       \"E_222\": {},\n",
        "#       \"E_125\": {},\n",
        "#       \"E_204\": {}\n",
        "\n",
        "\n",
        "dummy['AGE'] = 60\n",
        "\n",
        "# dummy['E_97'] =1\n",
        "# dummy['SEX']=1\n",
        "\n",
        "# dummy['E_204_@_V_1'] = 1\n",
        "\n",
        "# dummy['E_57_@_V_95'] = 1\n",
        "# print(dummy['E_104'])\n",
        "\n",
        "\n",
        "\n",
        "y_probabs = rf.predict_proba(dummy)\n",
        "y_predict = rf.predict(dummy)\n",
        "zipped = zip(rf.classes_,y_probabs.tolist()[0])\n",
        "prob_to_label ={}\n",
        "for disease,probab in zipped:\n",
        "    prob_to_label[disease] = probab\n",
        "prob_to_label = dict( sorted(prob_to_label.items(), key=operator.itemgetter(1), reverse=True))\n",
        "\n",
        "print(prob_to_label,y_predict,sep = '\\n'*2)\n",
        "\n"
      ]
    },
    {
      "cell_type": "markdown",
      "metadata": {},
      "source": [
        "DONE"
      ]
    }
  ],
  "metadata": {
    "colab": {
      "include_colab_link": true,
      "provenance": []
    },
    "kernelspec": {
      "display_name": "Python 3",
      "name": "python3"
    },
    "language_info": {
      "codemirror_mode": {
        "name": "ipython",
        "version": 3
      },
      "file_extension": ".py",
      "mimetype": "text/x-python",
      "name": "python",
      "nbconvert_exporter": "python",
      "pygments_lexer": "ipython3",
      "version": "3.10.11"
    }
  },
  "nbformat": 4,
  "nbformat_minor": 0
}
