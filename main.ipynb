{
  "cells": [
    {
      "cell_type": "markdown",
      "metadata": {
        "id": "view-in-github",
        "colab_type": "text"
      },
      "source": [
        "<a href=\"https://colab.research.google.com/github/Kingzel/pyMD/blob/main/main.ipynb\" target=\"_parent\"><img src=\"https://colab.research.google.com/assets/colab-badge.svg\" alt=\"Open In Colab\"/></a>"
      ]
    },
    {
      "cell_type": "code",
      "execution_count": 2,
      "metadata": {
        "id": "5m_wW1_jc0B0"
      },
      "outputs": [],
      "source": [
        "import json\n",
        "import csv\n",
        "import pandas as pd\n",
        "import matplotlib.pyplot as plt"
      ]
    },
    {
      "cell_type": "code",
      "execution_count": 3,
      "metadata": {
        "id": "dQUmQKkIc0B2"
      },
      "outputs": [],
      "source": [
        "from sklearn.ensemble import RandomForestClassifier\n",
        "from sklearn.model_selection import train_test_split\n"
      ]
    },
    {
      "cell_type": "code",
      "execution_count": 4,
      "metadata": {
        "id": "RvFkQ5dwc0B4"
      },
      "outputs": [],
      "source": [
        "# conds = pd.read_json(\"release_conditions.json\")\n",
        "evids = pd.read_json(\"release_evidences.json\")\n",
        "# train_patients1 = pd.read_csv(\"output_1.csv\")\n",
        "# train_patients2 = pd.read_csv(\"output_2.csv\")\n",
        "# train_patients3 = pd.read_csv(\"output_3.csv\")\n",
        "# train_patients4 = pd.read_csv(\"output_4.csv\")\n",
        "# train_patients5 = pd.read_csv(\"output_5.csv\")\n",
        "# train_patients = pd.concat([train_patients1, train_patients2,train_patients3,train_patients4,train_patients5], ignore_index=True)\n"
      ]
    },
    {
      "cell_type": "code",
      "execution_count": 5,
      "metadata": {
        "id": "WgFyEobuc0B4"
      },
      "outputs": [],
      "source": [
        "evids =evids.T\n",
        "# conds = conds.T\n",
        "# conds.drop(['cond-name-fr', 'cond-name-eng'], axis=1, inplace=True)\n",
        "evids.drop(['question_fr', 'question_en','code_question'], axis=1, inplace=True)\n",
        "# print(train_patients.head())\n",
        "# x = train_patients.drop(['PATHOLOGY','DIFFERENTIAL_DIAGNOSIS','INITIAL_EVIDENCE'],axis=1,inplace=False)\n",
        "# # x  = train_patients['SEX']\n",
        "# # x =x.dropna()\n",
        "# print(x.columns)\n",
        "# y = train_patients['PATHOLOGY']\n",
        "# print(x.head()['EVIDENCES'])\n",
        "# X_train, X_test, y_train, y_test = train_test_split(x, y, test_size = 0.35)\n",
        "\n"
      ]
    },
    {
      "cell_type": "code",
      "source": [
        "multi_evid = evids.loc[evids['data_type'] == 'M']['name'].to_list()\n",
        "schoice_evid = evids.loc[evids['data_type'] == 'C']['name'].to_list()\n",
        "print(multi_evid,len(multi_evid))\n",
        "print(schoice_evid,len(schoice_evid))"
      ],
      "metadata": {
        "colab": {
          "base_uri": "https://localhost:8080/"
        },
        "id": "wEnbxX2VSpvP",
        "outputId": "839379ae-6e98-434e-a230-f83033d0c3e1"
      },
      "execution_count": 6,
      "outputs": [
        {
          "output_type": "stream",
          "name": "stdout",
          "text": [
            "['E_55', 'E_57', 'E_54', 'E_133', 'E_152'] 5\n",
            "['E_59', 'E_56', 'E_58', 'E_130', 'E_134', 'E_132', 'E_136', 'E_135', 'E_131', 'E_204'] 10\n"
          ]
        }
      ]
    },
    {
      "cell_type": "markdown",
      "source": [],
      "metadata": {
        "id": "QQa97RdbpJDa"
      }
    },
    {
      "cell_type": "code",
      "source": [
        "m_collection =[]\n",
        "for i in range(len(evids)):\n",
        "  if evids.iloc[i]['data_type'] == 'M':\n",
        "    # print(evids.iloc[i]['name'],evids.iloc[i]['possible-values'])\n",
        "    for each_val in evids.iloc[i]['possible-values']:\n",
        "      col_name = evids.iloc[i]['name']+\"_@_\"+each_val\n",
        "      m_collection.append(col_name)\n",
        "\n",
        "\n",
        "print(len((m_collection)))\n"
      ],
      "metadata": {
        "colab": {
          "base_uri": "https://localhost:8080/"
        },
        "id": "tDTubMlBTaIu",
        "outputId": "a265836a-5eb9-4b36-a969-0388e852aa61"
      },
      "execution_count": 7,
      "outputs": [
        {
          "output_type": "stream",
          "name": "stdout",
          "text": [
            "676\n"
          ]
        }
      ]
    },
    {
      "cell_type": "code",
      "source": [
        "c_collection =[]\n",
        "for i in range(len(evids)):\n",
        "  if evids.iloc[i]['data_type'] == 'C':\n",
        "    if all(isinstance(each_val,int) for each_val in evids.iloc[i]['possible-values']):\n",
        "      c_collection.append(evids.iloc[i]['name'])\n",
        "    else:\n",
        "      for each_val in evids.iloc[i]['possible-values']:\n",
        "        col_name = evids.iloc[i]['name']+\"_@_\"+str(each_val)\n",
        "        c_collection.append(col_name)\n",
        "print(len(c_collection))\n",
        "print(c_collection)\n"
      ],
      "metadata": {
        "colab": {
          "base_uri": "https://localhost:8080/"
        },
        "id": "YcnITR38nmmo",
        "outputId": "464c6d00-ef0f-46b3-e8af-aa43badd907d"
      },
      "execution_count": 8,
      "outputs": [
        {
          "output_type": "stream",
          "name": "stdout",
          "text": [
            "28\n",
            "['E_59', 'E_56', 'E_58', 'E_130_@_V_11', 'E_130_@_V_86', 'E_130_@_V_107', 'E_130_@_V_138', 'E_130_@_V_156', 'E_130_@_V_157', 'E_134', 'E_132', 'E_136', 'E_135_@_V_10', 'E_135_@_V_12', 'E_131_@_V_10', 'E_131_@_V_12', 'E_204_@_V_10', 'E_204_@_V_0', 'E_204_@_V_1', 'E_204_@_V_2', 'E_204_@_V_3', 'E_204_@_V_4', 'E_204_@_V_5', 'E_204_@_V_6', 'E_204_@_V_7', 'E_204_@_V_8', 'E_204_@_V_9', 'E_204_@_V_13']\n"
          ]
        }
      ]
    },
    {
      "cell_type": "code",
      "source": [
        "b_collection =[]\n",
        "for i in range(len(evids)):\n",
        "  if evids.iloc[i]['data_type'] == 'B':\n",
        "      col_name = evids.iloc[i]['name']\n",
        "      b_collection.append(col_name)\n",
        "\n",
        "\n",
        "print(len(b_collection))"
      ],
      "metadata": {
        "colab": {
          "base_uri": "https://localhost:8080/"
        },
        "outputId": "c1954dcf-3b0d-4e7c-8940-cb5f4982d4da",
        "id": "ved0djSkqWtp"
      },
      "execution_count": 9,
      "outputs": [
        {
          "output_type": "stream",
          "name": "stdout",
          "text": [
            "208\n"
          ]
        }
      ]
    },
    {
      "cell_type": "code",
      "source": [
        "all_collections = b_collection+m_collection+c_collection\n",
        "all_collections.extend(['AGE','SEX'])\n",
        "new_df = pd.DataFrame(0, index=range(len(x)), columns=all_collections)\n",
        "\n",
        "\n",
        "print(new_df.shape, new_df.head(),sep=\"\\n\\n\\n\")\n",
        "# print(new_df[new_df['E_132']==2])"
      ],
      "metadata": {
        "colab": {
          "base_uri": "https://localhost:8080/"
        },
        "id": "mmskv6_vp_zR",
        "outputId": "9c25bd33-4cd8-47cb-a5b6-90bd01684add"
      },
      "execution_count": 20,
      "outputs": [
        {
          "output_type": "stream",
          "name": "stdout",
          "text": [
            "(134529, 914)\n",
            "\n",
            "\n",
            "   E_91  E_53  E_159  E_129  E_154  E_155  E_210  E_140  E_51  E_75  ...  \\\n",
            "0     0     0      0      0      0      0      0      0     0     0  ...   \n",
            "1     0     0      0      0      0      0      0      0     0     0  ...   \n",
            "2     0     0      0      0      0      0      0      0     0     0  ...   \n",
            "3     0     0      0      0      0      0      0      0     0     0  ...   \n",
            "4     0     0      0      0      0      0      0      0     0     0  ...   \n",
            "\n",
            "   E_204_@_V_3  E_204_@_V_4  E_204_@_V_5  E_204_@_V_6  E_204_@_V_7  \\\n",
            "0            0            0            0            0            0   \n",
            "1            0            0            0            0            0   \n",
            "2            0            0            0            0            0   \n",
            "3            0            0            0            0            0   \n",
            "4            0            0            0            0            0   \n",
            "\n",
            "   E_204_@_V_8  E_204_@_V_9  E_204_@_V_13  AGE  SEX  \n",
            "0            0            0             0    0    0  \n",
            "1            0            0             0    0    0  \n",
            "2            0            0             0    0    0  \n",
            "3            0            0             0    0    0  \n",
            "4            0            0             0    0    0  \n",
            "\n",
            "[5 rows x 914 columns]\n"
          ]
        }
      ]
    },
    {
      "cell_type": "code",
      "source": [
        "for i in range(len(x)):\n",
        "  patient = x.iloc[i]\n",
        "  age,sex,symps =patient['AGE'],patient['SEX'], patient['EVIDENCES']\n",
        "  if sex == 'M':\n",
        "    sex = 0\n",
        "  elif sex == 'F':\n",
        "    sex = 1\n",
        "  new_df.loc[i, 'AGE'],new_df.loc[i, 'SEX'] = age,sex\n",
        "  symps = eval(symps)\n",
        "  for symp in symps:\n",
        "    if symp in new_df.columns:\n",
        "      new_df.loc[i, symp] = 1\n",
        "    else:\n",
        "      t_index = symp.index('@')-1\n",
        "      intensity = int(symp[symp.index('@')+2:])\n",
        "      t_column = symp[0:t_index]\n",
        "      new_df.loc[i, t_column] = intensity\n",
        "\n",
        "\n",
        "print(new_df.head())\n",
        "\n",
        "\n"
      ],
      "metadata": {
        "colab": {
          "base_uri": "https://localhost:8080/"
        },
        "id": "sg0f3A5ls5Nb",
        "outputId": "20d071b1-ebc6-4c92-d1e1-be3876ffc368"
      },
      "execution_count": 21,
      "outputs": [
        {
          "output_type": "stream",
          "name": "stdout",
          "text": [
            "   E_91  E_53  E_159  E_129  E_154  E_155  E_210  E_140  E_51  E_75  ...  \\\n",
            "0     0     1      0      0      0      0      0      1     0     0  ...   \n",
            "1     0     1      0      0      0      0      0      0     0     0  ...   \n",
            "2     0     0      0      0      0      0      0      0     0     0  ...   \n",
            "3     1     1      0      0      0      0      0      0     0     0  ...   \n",
            "4     1     1      0      0      0      0      0      0     0     0  ...   \n",
            "\n",
            "   E_204_@_V_3  E_204_@_V_4  E_204_@_V_5  E_204_@_V_6  E_204_@_V_7  \\\n",
            "0            0            0            0            0            0   \n",
            "1            0            0            0            0            0   \n",
            "2            0            0            0            0            0   \n",
            "3            0            0            0            0            0   \n",
            "4            0            0            0            0            0   \n",
            "\n",
            "   E_204_@_V_8  E_204_@_V_9  E_204_@_V_13  AGE  SEX  \n",
            "0            0            0             0   49    1  \n",
            "1            0            0             0    2    0  \n",
            "2            0            0             0   49    0  \n",
            "3            0            0             0   64    0  \n",
            "4            0            0             0   70    1  \n",
            "\n",
            "[5 rows x 914 columns]\n"
          ]
        }
      ]
    },
    {
      "cell_type": "code",
      "source": [
        "print(new_df.shape)"
      ],
      "metadata": {
        "colab": {
          "base_uri": "https://localhost:8080/"
        },
        "id": "rxFlmTJm_iyI",
        "outputId": "0edb0220-7381-48a6-968b-e139ffd6b1eb"
      },
      "execution_count": 22,
      "outputs": [
        {
          "output_type": "stream",
          "name": "stdout",
          "text": [
            "(134529, 914)\n"
          ]
        }
      ]
    },
    {
      "cell_type": "code",
      "source": [
        "\n",
        "X_train, X_test, y_train, y_test = train_test_split(new_df, y, test_size = 0.3)\n",
        "print(X_train.head()['AGE'],y_train.head(),sep=\"\\n\\n\\n\")"
      ],
      "metadata": {
        "colab": {
          "base_uri": "https://localhost:8080/"
        },
        "id": "khlrqQusABbX",
        "outputId": "c1474555-1492-4d0f-9a24-e6134854a964"
      },
      "execution_count": 276,
      "outputs": [
        {
          "output_type": "stream",
          "name": "stdout",
          "text": [
            "129202    47\n",
            "83163     73\n",
            "16952     48\n",
            "45080     20\n",
            "126279    68\n",
            "Name: AGE, dtype: int64\n",
            "\n",
            "\n",
            "129202     Acute rhinosinusitis\n",
            "83163           Unstable angina\n",
            "16952               Myocarditis\n",
            "45080      Acute rhinosinusitis\n",
            "126279    Acute pulmonary edema\n",
            "Name: PATHOLOGY, dtype: object\n"
          ]
        }
      ]
    },
    {
      "cell_type": "code",
      "source": [
        "clf = RandomForestClassifier(n_estimators=10, warm_start=True)\n",
        "clf.fit(X_train, y_train)\n"
      ],
      "metadata": {
        "colab": {
          "base_uri": "https://localhost:8080/",
          "height": 194
        },
        "id": "VqcObY6EIZ7C",
        "outputId": "542b5c20-e3c9-4a65-ba4c-ae737faf653f"
      },
      "execution_count": 1,
      "outputs": [
        {
          "output_type": "error",
          "ename": "NameError",
          "evalue": "ignored",
          "traceback": [
            "\u001b[0;31m---------------------------------------------------------------------------\u001b[0m",
            "\u001b[0;31mNameError\u001b[0m                                 Traceback (most recent call last)",
            "\u001b[0;32m<ipython-input-1-8b36871b7a72>\u001b[0m in \u001b[0;36m<cell line: 1>\u001b[0;34m()\u001b[0m\n\u001b[0;32m----> 1\u001b[0;31m \u001b[0mclf\u001b[0m \u001b[0;34m=\u001b[0m \u001b[0mRandomForestClassifier\u001b[0m\u001b[0;34m(\u001b[0m\u001b[0mn_estimators\u001b[0m\u001b[0;34m=\u001b[0m\u001b[0;36m10\u001b[0m\u001b[0;34m,\u001b[0m \u001b[0mwarm_start\u001b[0m\u001b[0;34m=\u001b[0m\u001b[0;32mTrue\u001b[0m\u001b[0;34m)\u001b[0m\u001b[0;34m\u001b[0m\u001b[0;34m\u001b[0m\u001b[0m\n\u001b[0m\u001b[1;32m      2\u001b[0m \u001b[0mclf\u001b[0m\u001b[0;34m.\u001b[0m\u001b[0mfit\u001b[0m\u001b[0;34m(\u001b[0m\u001b[0mX_train\u001b[0m\u001b[0;34m,\u001b[0m \u001b[0my_train\u001b[0m\u001b[0;34m)\u001b[0m\u001b[0;34m\u001b[0m\u001b[0;34m\u001b[0m\u001b[0m\n",
            "\u001b[0;31mNameError\u001b[0m: name 'RandomForestClassifier' is not defined"
          ]
        }
      ]
    },
    {
      "cell_type": "code",
      "source": [
        "y_pred  = clf.predict(X_test)\n",
        "correct = 0\n",
        "total =0\n",
        "for predicted, actual in zip(y_pred,y_test):\n",
        "  if predicted == actual:\n",
        "    correct+=1\n",
        "  total+=1\n",
        "print(correct,'out of',total,correct/total,'accuracy')"
      ],
      "metadata": {
        "colab": {
          "base_uri": "https://localhost:8080/"
        },
        "id": "LMTZAsMMN-dg",
        "outputId": "debd1bb8-2036-42de-94ff-ff8623f8a87a"
      },
      "execution_count": 279,
      "outputs": [
        {
          "output_type": "stream",
          "name": "stdout",
          "text": [
            "44715 out of 45000 0.9936666666666667 accuracy\n"
          ]
        }
      ]
    },
    {
      "cell_type": "code",
      "source": [
        "import pickle as p\n",
        "\n",
        "with open('trained_model.bin', 'wb') as f:\n",
        "    p.dump(clf, f)\n"
      ],
      "metadata": {
        "id": "pI-n8oAeO5Cm"
      },
      "execution_count": 283,
      "outputs": []
    },
    {
      "cell_type": "code",
      "source": [
        "test_patients = pd.read_csv(\"release_test_patients.csv\")\n"
      ],
      "metadata": {
        "id": "xkv497VER0k9"
      },
      "execution_count": 16,
      "outputs": []
    },
    {
      "cell_type": "code",
      "source": [
        "x = test_patients.drop(['PATHOLOGY','DIFFERENTIAL_DIAGNOSIS','INITIAL_EVIDENCE'],axis=1,inplace=False)\n",
        "y = test_patients['PATHOLOGY']\n"
      ],
      "metadata": {
        "id": "sWWZDlVySmUj"
      },
      "execution_count": 17,
      "outputs": []
    },
    {
      "cell_type": "code",
      "source": [
        "import pickle as p\n",
        "with open('trained_model.bin', 'rb') as f:\n",
        "    rf = p.load(f)"
      ],
      "metadata": {
        "id": "YJOY0dLkVbbr"
      },
      "execution_count": 23,
      "outputs": []
    },
    {
      "cell_type": "code",
      "source": [
        "y_pred  = rf.predict(new_df)\n",
        "correct = 0\n",
        "total =0\n",
        "for predicted, actual in zip(y_pred,y):\n",
        "  if predicted == actual:\n",
        "    correct+=1\n",
        "  total+=1\n",
        "print(correct,'out of',total,correct/total,'accuracy')"
      ],
      "metadata": {
        "colab": {
          "base_uri": "https://localhost:8080/"
        },
        "id": "Sduj5K6ZVMsc",
        "outputId": "4171d2ae-c248-4d0c-ccb3-be2e8090b3f7"
      },
      "execution_count": 25,
      "outputs": [
        {
          "output_type": "stream",
          "name": "stdout",
          "text": [
            "133584 out of 134529 0.9929754922730415 accuracy\n"
          ]
        }
      ]
    }
  ],
  "metadata": {
    "kernelspec": {
      "display_name": "Python 3",
      "name": "python3"
    },
    "language_info": {
      "codemirror_mode": {
        "name": "ipython",
        "version": 3
      },
      "file_extension": ".py",
      "mimetype": "text/x-python",
      "name": "python",
      "nbconvert_exporter": "python",
      "pygments_lexer": "ipython3",
      "version": "3.6.4"
    },
    "colab": {
      "provenance": [],
      "include_colab_link": true
    }
  },
  "nbformat": 4,
  "nbformat_minor": 0
}