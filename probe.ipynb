{
 "cells": [
  {
   "cell_type": "code",
   "execution_count": 1,
   "metadata": {},
   "outputs": [],
   "source": [
    "import pymdroutines as pmdr\n",
    "import pandas as pd\n",
    "import evaluate as e\n",
    "import random as rand"
   ]
  },
  {
   "cell_type": "code",
   "execution_count": 2,
   "metadata": {},
   "outputs": [
    {
     "name": "stdout",
     "output_type": "stream",
     "text": [
      "Index(['name', 'code_question', 'question_fr', 'question_en', 'is_antecedent',\n",
      "       'default_value', 'value_meaning', 'possible-values', 'data_type'],\n",
      "      dtype='object')\n"
     ]
    }
   ],
   "source": [
    "evids =pd.read_json(\"data\\\\release_evidences.json\")\n",
    "evids1 = pd.read_json(\"data\\\\release_evidences.json\")\n",
    "conds  = pd.read_json('data\\\\release_conditions.json')\n",
    "evids1 = evids1.T\n",
    "print(evids1.columns)\n",
    "# evids['numeric_part'] = evids['name'].apply(lambda x: int(x.split('_')[1]))\n",
    "# sorted_evids = evids.sort_values(by='numeric_part')\n",
    "# print(sorted_evids['name'].to_list())"
   ]
  },
  {
   "cell_type": "code",
   "execution_count": 3,
   "metadata": {},
   "outputs": [
    {
     "name": "stdout",
     "output_type": "stream",
     "text": [
      "Index(['condition_name', 'symptoms', 'severity'], dtype='object')\n"
     ]
    }
   ],
   "source": [
    "conds = conds.T\n",
    "conds.drop(['cond-name-fr', 'antecedents','cond-name-eng','icd10-id'], axis=1, inplace=True)\n",
    "print(conds.columns)\n"
   ]
  },
  {
   "cell_type": "code",
   "execution_count": 4,
   "metadata": {},
   "outputs": [],
   "source": [
    "cond_to_evi = {}\n",
    "int_to_cond ={}\n",
    "for i in range(len(conds)):\n",
    "   condition=  conds.iloc[i]\n",
    "   name =condition['condition_name']\n",
    "   cond_to_evi[name] = set(condition['symptoms'].keys())\n",
    "   int_to_cond[i]=name\n",
    "\n"
   ]
  },
  {
   "cell_type": "code",
   "execution_count": 5,
   "metadata": {},
   "outputs": [
    {
     "name": "stdout",
     "output_type": "stream",
     "text": [
      "914\n"
     ]
    }
   ],
   "source": [
    "import pickle as p\n",
    "with open('trained_model.bin', 'rb') as f:\n",
    "    rf =  p.load(f)\n",
    "    cols  = p.load(f)\n",
    "print(len(cols))"
   ]
  },
  {
   "cell_type": "code",
   "execution_count": 6,
   "metadata": {},
   "outputs": [
    {
     "name": "stdout",
     "output_type": "stream",
     "text": [
      "E_173\n"
     ]
    }
   ],
   "source": [
    "multi_evi = pmdr.gen_multichoice_features(evids)[1]\n",
    "ordinal_evi_sc= pmdr.gen_singlechoice_features(evids)[1]\n",
    "categorical_evi_sc = pmdr.gen_singlechoice_features(evids)[2]\n",
    "binary_evi =pmdr.gen_binary_features(evids)\n",
    "# print(len(ordinal_evi_sc+  categoical_evi_sc+   multi_evi+      binary_evi),sep ='\\n'*3)\n",
    "all_evis = multi_evi+ordinal_evi_sc+categorical_evi_sc+binary_evi\n",
    "print(rand.choice(all_evis))\n",
    "# print(len(ordinal_evi_sc),len(categoical_evi_sc),len(multi_evi),len(binary_evi),sep ='\\n'*3)\n",
    "\n"
   ]
  },
  {
   "cell_type": "code",
   "execution_count": 7,
   "metadata": {},
   "outputs": [],
   "source": [
    "import thompsonsampling as ts\n"
   ]
  },
  {
   "cell_type": "code",
   "execution_count": 8,
   "metadata": {},
   "outputs": [
    {
     "name": "stdout",
     "output_type": "stream",
     "text": [
      "question_en               Does the pain radiate to another location?\n",
      "possible-values    [V_123, V_14, V_15, V_16, V_17, V_18, V_19, V_...\n",
      "value_meaning      {'V_123': {'fr': 'nulle part', 'en': 'nowhere'...\n",
      "Name: E_57, dtype: object\n"
     ]
    }
   ],
   "source": [
    "picked_bandit = ts.pick_bandit(49) # Pick disease with the current highest possibility (using beta sampling).\n",
    "disease = int_to_cond[picked_bandit] \n",
    "symp_set = cond_to_evi[disease]\n",
    "enquiry_chosen = rand.choice(list(symp_set)) # Choose a random symptom of that disease to enquire about disease.\n",
    "# print(disease,enquiry_chosen,symp_set)\n",
    "question_data = evids1.loc[enquiry_chosen,[\"question_en\",'possible-values','value_meaning']]\n",
    "print(question_data)\n",
    "feat_group_classify = lambda enquiry_chosen: 1 if enquiry_chosen in categorical_evi_sc else (0 if enquiry_chosen in binary_evi else ( 3 if enquiry_chosen in multi_evi else 2 )) \n",
    "question_group_val = feat_group_classify(enquiry_chosen)\n",
    "\n",
    "\n",
    "# if "
   ]
  },
  {
   "cell_type": "code",
   "execution_count": 9,
   "metadata": {},
   "outputs": [
    {
     "name": "stdout",
     "output_type": "stream",
     "text": [
      "3\n",
      "V_123 nowhere\n",
      "V_14 iliac wing(R)\n",
      "V_15 iliac wing(L)\n",
      "V_16 groin(R)\n",
      "V_17 groin(L)\n",
      "V_19 axilla(L)\n",
      "V_18 axilla(R)\n",
      "V_20 tonsil(R)\n",
      "V_21 tonsil(L)\n",
      "V_22 anus\n",
      "V_26 back of the neck\n",
      "V_25 back of head\n",
      "V_30 biceps(R)\n",
      "V_31 biceps(L)\n",
      "V_32 mouth\n",
      "V_33 thyroid cartilage\n",
      "V_34 ankle(R)\n",
      "V_35 ankle(L)\n",
      "V_36 clitoris\n",
      "V_37 coccyx\n",
      "V_38 cervical spine\n",
      "V_39 thoracic spine\n",
      "V_40 lumbar spine\n",
      "V_41 commissure(R)\n",
      "V_42 commissure(L)\n",
      "V_49 iliac crest(R)\n",
      "V_50 iliac crest(L)\n",
      "V_51 thigh(R)\n",
      "V_52 thigh(L)\n",
      "V_57 lower teeth(R)\n",
      "V_58 lower teeth(L)\n",
      "V_59 upper teeth(R)\n",
      "V_60 upper teeth(L)\n",
      "V_67 finger (index)(R)\n",
      "V_68 finger (index)(L)\n",
      "V_69 finger (middle)(R)\n",
      "V_70 finger (middle)(L)\n",
      "V_63 finger (ring finger)(R)\n",
      "V_64 finger (ring finger)(L)\n",
      "V_65 finger (little finger)(R)\n",
      "V_66 finger (little finger)(L)\n",
      "V_62 top of the head\n",
      "V_194 shoulder(R)\n",
      "V_195 shoulder(L)\n",
      "V_197 epigastric\n",
      "V_27 forearm(R)\n",
      "V_28 forearm(L)\n",
      "V_76 dorsal aspect of the hand(R)\n",
      "V_77 dorsal aspect of the hand(L)\n",
      "V_72 dorsal aspect of the foot(R)\n",
      "V_73 dorsal aspect of the foot(L)\n",
      "V_74 dorsal aspect of the wrist(R)\n",
      "V_75 dorsal aspect of the wrist(L)\n",
      "V_149 sole(R)\n",
      "V_150 sole(L)\n",
      "V_80 palmar face of the wrist(R)\n",
      "V_81 palmar face of the wrist(L)\n",
      "V_43 lateral side of the foot(R)\n",
      "V_44 lateral side of the foot(L)\n",
      "V_82 buttock(R)\n",
      "V_83 buttock(L)\n",
      "V_84 flank(R)\n",
      "V_85 flank(L)\n",
      "V_78 palmar side of the forearm(R)\n",
      "V_79 palmar side of the forearm(L)\n",
      "V_87 iliac fossa(R)\n",
      "V_88 iliac fossa(L)\n",
      "V_89 forehead\n",
      "V_92 knee(R)\n",
      "V_93 knee(L)\n",
      "V_90 lower gum\n",
      "V_47 popliteal fossa(R)\n",
      "V_48 popliteal fossa(L)\n",
      "V_91 upper gum\n",
      "V_94 glans\n",
      "V_95 labia majora(R)\n",
      "V_96 labia majora(L)\n",
      "V_97 big toe(R)\n",
      "V_98 big toe(L)\n",
      "V_99 hip(R)\n",
      "V_100 hip(L)\n",
      "V_102 hymen\n",
      "V_103 hypochondrium(R)\n",
      "V_104 hypochondrium(L)\n",
      "V_105 ischio jambier(R)\n",
      "V_106 ischio jambier(L)\n",
      "V_108 cheek(R)\n",
      "V_109 cheek(L)\n",
      "V_110 internal cheek(R)\n",
      "V_111 internal cheek(L)\n",
      "V_53 side of the neck(R)\n",
      "V_54 side of the neck(L)\n",
      "V_55 side of the chest(R)\n",
      "V_56 side of the chest(L)\n",
      "V_116 bottom lip(R)\n",
      "V_117 upper lip(R)\n",
      "V_113 renal fossa(R)\n",
      "V_114 renal fossa(L)\n",
      "V_115 uvula\n",
      "V_121 jaw\n",
      "V_118 chin\n",
      "V_29 lower chest\n",
      "V_119 calf(R)\n",
      "V_120 calf(L)\n",
      "V_122 nose\n",
      "V_124 occiput\n",
      "V_125 eye(R)\n",
      "V_126 eye(L)\n",
      "V_127 scapula(R)\n",
      "V_128 scapula(L)\n",
      "V_129 ear(R)\n",
      "V_130 ear(L)\n",
      "V_131 toe (1)(R)\n",
      "V_132 toe (1)(L)\n",
      "V_133 toe (2)(R)\n",
      "V_134 toe (2)(L)\n",
      "V_135 toe (3)(R)\n",
      "V_136 toe (3)(L)\n",
      "V_144 little toe (4)(R)\n",
      "V_145 little toe (4)(L)\n",
      "V_45 elbow(R)\n",
      "V_46 elbow(L)\n",
      "V_137 palace\n",
      "V_170 posterior chest wall(R)\n",
      "V_171 posterior chest wall(L)\n",
      "V_139 vaginal wall\n",
      "V_140 vaginal wall(R)\n",
      "V_141 vaginal wall(L)\n",
      "V_142 palm(R)\n",
      "V_143 palm(L)\n",
      "V_155 penis\n",
      "V_187 belly\n",
      "V_146 labia minora(R)\n",
      "V_147 labia minora(L)\n",
      "V_148 pharynx\n",
      "V_23 posterior aspect of the ankle(R)\n",
      "V_24 posterior aspect of the ankle(L)\n",
      "V_151 thumb(R)\n",
      "V_152 thumb(L)\n",
      "V_158 scrotum\n",
      "V_159 breast(R)\n",
      "V_160 breast(L)\n",
      "V_162 under the tongue\n",
      "V_163 under the jaw\n",
      "V_101 upper chest\n",
      "V_61 above the tongue\n",
      "V_153 pubis\n",
      "V_164 heel(R)\n",
      "V_165 heel(L)\n",
      "V_166 temple(R)\n",
      "V_167 temple(L)\n",
      "V_168 testicle(R)\n",
      "V_169 testicle(L)\n",
      "V_172 tibia(R)\n",
      "V_173 tibia(L)\n",
      "V_175 trapezius(R)\n",
      "V_176 trapezius(L)\n",
      "V_174 trachea\n",
      "V_177 triceps(R)\n",
      "V_178 triceps(L)\n",
      "V_185 urethra\n",
      "V_186 vagina\n",
      "V_188 vermilion(R)\n",
      "V_189 vermilion(L)\n",
      "V_190 vulval vestibule\n"
     ]
    }
   ],
   "source": [
    "import importlib\n",
    "importlib.reload(pmdr)\n",
    "print(question_group_val)\n",
    "pmdr.disp(question_group_val, question_data[\"question_en\"],question_data[\"value_meaning\"],question_data[\"possible-values\"])"
   ]
  },
  {
   "cell_type": "markdown",
   "metadata": {},
   "source": []
  }
 ],
 "metadata": {
  "kernelspec": {
   "display_name": "Python 3",
   "language": "python",
   "name": "python3"
  },
  "language_info": {
   "codemirror_mode": {
    "name": "ipython",
    "version": 3
   },
   "file_extension": ".py",
   "mimetype": "text/x-python",
   "name": "python",
   "nbconvert_exporter": "python",
   "pygments_lexer": "ipython3",
   "version": "3.10.11"
  }
 },
 "nbformat": 4,
 "nbformat_minor": 2
}
