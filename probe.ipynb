{
 "cells": [
  {
   "cell_type": "code",
   "execution_count": 1,
   "metadata": {},
   "outputs": [],
   "source": [
    "import setup as s\n",
    "import pandas as pd\n",
    "import evaluate as e\n",
    "import random as rand"
   ]
  },
  {
   "cell_type": "code",
   "execution_count": 2,
   "metadata": {},
   "outputs": [
    {
     "name": "stdout",
     "output_type": "stream",
     "text": [
      "Index(['name', 'code_question', 'question_fr', 'question_en', 'is_antecedent',\n",
      "       'default_value', 'value_meaning', 'possible-values', 'data_type'],\n",
      "      dtype='object')\n"
     ]
    }
   ],
   "source": [
    "evids =pd.read_json(\"data\\\\release_evidences.json\")\n",
    "evids1 = pd.read_json(\"data\\\\release_evidences.json\")\n",
    "conds  = pd.read_json('data\\\\release_conditions.json')\n",
    "evids1 = evids1.T\n",
    "print(evids1.columns)\n",
    "# evids['numeric_part'] = evids['name'].apply(lambda x: int(x.split('_')[1]))\n",
    "# sorted_evids = evids.sort_values(by='numeric_part')\n",
    "# print(sorted_evids['name'].to_list())"
   ]
  },
  {
   "cell_type": "code",
   "execution_count": 3,
   "metadata": {},
   "outputs": [
    {
     "name": "stdout",
     "output_type": "stream",
     "text": [
      "Index(['condition_name', 'symptoms', 'severity'], dtype='object')\n"
     ]
    }
   ],
   "source": [
    "conds = conds.T\n",
    "conds.drop(['cond-name-fr', 'antecedents','cond-name-eng','icd10-id'], axis=1, inplace=True)\n",
    "print(conds.columns)\n"
   ]
  },
  {
   "cell_type": "code",
   "execution_count": 4,
   "metadata": {},
   "outputs": [],
   "source": [
    "cond_evi = {}\n",
    "int_to_cond ={}\n",
    "for i in range(len(conds)):\n",
    "   condition=  conds.iloc[i]\n",
    "   name =condition['condition_name']\n",
    "   cond_evi[name] = set(condition['symptoms'].keys())\n",
    "   int_to_cond[i]=name\n",
    "\n"
   ]
  },
  {
   "cell_type": "code",
   "execution_count": 5,
   "metadata": {},
   "outputs": [
    {
     "name": "stdout",
     "output_type": "stream",
     "text": [
      "914\n"
     ]
    }
   ],
   "source": [
    "import pickle as p\n",
    "with open('trained_model.bin', 'rb') as f:\n",
    "    rf =  p.load(f)\n",
    "    cols  = p.load(f)\n",
    "print(len(cols))"
   ]
  },
  {
   "cell_type": "code",
   "execution_count": 6,
   "metadata": {},
   "outputs": [
    {
     "name": "stdout",
     "output_type": "stream",
     "text": [
      "223\n",
      "E_16\n"
     ]
    }
   ],
   "source": [
    "multi_evi = s.gen_multichoice_features(evids)[1]\n",
    "ordinal_evi_sc= s.gen_singlechoice_features(evids)[1]\n",
    "categoical_evi_sc = s.gen_singlechoice_features(evids)[2]\n",
    "binary_evi =s.gen_binary_features(evids)\n",
    "print(len(ordinal_evi_sc+  categoical_evi_sc+   multi_evi+      binary_evi),sep ='\\n'*3)\n",
    "all_evis = multi_evi+ordinal_evi_sc+categoical_evi_sc+binary_evi\n",
    "print(rand.choice(all_evis))\n",
    "# print(len(ordinal_evi_sc),len(categoical_evi_sc),len(multi_evi),len(binary_evi),sep ='\\n'*3)\n",
    "\n"
   ]
  },
  {
   "cell_type": "code",
   "execution_count": 7,
   "metadata": {},
   "outputs": [],
   "source": [
    "import thompsonsampling as ts\n"
   ]
  },
  {
   "cell_type": "code",
   "execution_count": 12,
   "metadata": {},
   "outputs": [
    {
     "name": "stdout",
     "output_type": "stream",
     "text": [
      "Bronchiectasis E_201 {'E_66', 'E_45', 'E_77', 'E_201'}\n",
      "Do you have a cough?\n",
      "False True False False\n"
     ]
    }
   ],
   "source": [
    "picked_bandit = ts.pick_bandit()\n",
    "disease = int_to_cond[picked_bandit]\n",
    "symp_set = cond_evi[disease]\n",
    "enquiry_chosen = rand.choice(list(symp_set))\n",
    "print(disease,enquiry_chosen,symp_set)\n",
    "print(evids1.loc[enquiry_chosen,\"question_en\"])\n",
    "\n",
    "print(enquiry_chosen in categoical_evi_sc,enquiry_chosen in binary_evi,enquiry_chosen in multi_evi,enquiry_chosen in ordinal_evi_sc)\n",
    "if "
   ]
  },
  {
   "cell_type": "markdown",
   "metadata": {},
   "source": []
  }
 ],
 "metadata": {
  "kernelspec": {
   "display_name": "Python 3",
   "language": "python",
   "name": "python3"
  },
  "language_info": {
   "codemirror_mode": {
    "name": "ipython",
    "version": 3
   },
   "file_extension": ".py",
   "mimetype": "text/x-python",
   "name": "python",
   "nbconvert_exporter": "python",
   "pygments_lexer": "ipython3",
   "version": "3.10.11"
  }
 },
 "nbformat": 4,
 "nbformat_minor": 2
}
